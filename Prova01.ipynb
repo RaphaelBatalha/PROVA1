{
 "cells": [
  {
   "cell_type": "code",
   "execution_count": 1,
   "id": "e3ad4e3f-2361-4e82-a351-46775e719f58",
   "metadata": {},
   "outputs": [],
   "source": [
    "class No:\n",
    "    def __init__(self, valor):\n",
    "        self.valor = valor\n",
    "        self.proximo = None\n",
    "\n",
    "class ListaEncadeada:\n",
    "    def __init__(self):\n",
    "        self.inicio = None\n",
    "\n",
    "    def inserir(self, valor):\n",
    "        novo_no = No(valor)\n",
    "        if self.inicio is None:\n",
    "            self.inicio = novo_no\n",
    "        else:\n",
    "            atual = self.inicio\n",
    "            while atual.proximo:\n",
    "                atual = atual.proximo\n",
    "            atual.proximo = novo_no\n",
    "    def contar(self):\n",
    "    # DESENVOLVA ESSE MÉTODO (FUNCIONALIDADE)\n",
    "    # ELA DEVE SE INTEGRAR À IMPLEMENTAÇÃO DA CLASSE ACIMA\n",
    "    # E DEVE FUNCIONAR PARA O EXEMPLO DE ENTRADA E SAÍDA PROPOSTO\n",
    "        contador = 0\n",
    "        atual = self.inicio\n",
    "        while atual:\n",
    "            contador += 1\n",
    "            atual = atual.proximo\n",
    "        return contador"
   ]
  },
  {
   "cell_type": "code",
   "execution_count": 2,
   "id": "1934a9b6-3c67-46ac-a61e-566858bb9558",
   "metadata": {},
   "outputs": [],
   "source": [
    "lista_encadeada = ListaEncadeada()"
   ]
  },
  {
   "cell_type": "code",
   "execution_count": 3,
   "id": "e3b55534-43f2-4640-b5ec-46949b6af3a6",
   "metadata": {},
   "outputs": [],
   "source": [
    "lista_encadeada.inserir(5)"
   ]
  },
  {
   "cell_type": "code",
   "execution_count": 4,
   "id": "c627e1cf-7ebe-4973-87e2-d0304451cfae",
   "metadata": {},
   "outputs": [],
   "source": [
    "lista_encadeada.inserir(15)"
   ]
  },
  {
   "cell_type": "code",
   "execution_count": 5,
   "id": "7ad73c13-3f55-49e0-8883-8a6671c1bc59",
   "metadata": {},
   "outputs": [],
   "source": [
    "lista_encadeada.inserir(25)"
   ]
  },
  {
   "cell_type": "code",
   "execution_count": 6,
   "id": "99eb17a2-b3df-4c77-81c0-1d4db6c7860d",
   "metadata": {},
   "outputs": [
    {
     "name": "stdout",
     "output_type": "stream",
     "text": [
      "3\n"
     ]
    }
   ],
   "source": [
    "print(lista_encadeada.contar())"
   ]
  },
  {
   "cell_type": "code",
   "execution_count": null,
   "id": "cca4ecfe-5c12-4ffd-9a7d-d79a148b3611",
   "metadata": {},
   "outputs": [],
   "source": []
  }
 ],
 "metadata": {
  "kernelspec": {
   "display_name": "Python 3 (ipykernel)",
   "language": "python",
   "name": "python3"
  },
  "language_info": {
   "codemirror_mode": {
    "name": "ipython",
    "version": 3
   },
   "file_extension": ".py",
   "mimetype": "text/x-python",
   "name": "python",
   "nbconvert_exporter": "python",
   "pygments_lexer": "ipython3",
   "version": "3.13.5"
  }
 },
 "nbformat": 4,
 "nbformat_minor": 5
}
